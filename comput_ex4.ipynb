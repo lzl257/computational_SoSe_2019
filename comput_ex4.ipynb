{
 "cells": [
  {
   "cell_type": "code",
   "execution_count": 96,
   "metadata": {
    "scrolled": false
   },
   "outputs": [
    {
     "name": "stderr",
     "output_type": "stream",
     "text": [
      "Warning message:\n",
      "\"package 'reshape2' was built under R version 3.6.1\""
     ]
    }
   ],
   "source": [
    "library(glmnet)\n",
    "library(mvtnorm)\n",
    "library(repr)\n",
    "library(ggplot2)\n",
    "library(reshape2)"
   ]
  },
  {
   "cell_type": "markdown",
   "metadata": {},
   "source": [
    "# Problem Set 4\n",
    "\n",
    "## Exercise 1\n",
    "\n",
    "Consider the following DGP:\n",
    "\n",
    "* $n$ observations and $p$ predictors; initially set $p=50$\n",
    "* $\\mathbf{X}\\sim \\mathcal{N}_p(\\mathbf{0}, \\mathbf{\\Sigma})$, where $\\Sigma$ is diagonal and the variances range from $1$ to $2$.\n",
    "* The population coefficients $\\beta$ range from $0.1 \\sim 0.5$. You can sample values or use eqi-spaced values.\n",
    "* $\\epsilon \\sim N(0, 1)$"
   ]
  },
  {
   "cell_type": "code",
   "execution_count": 2,
   "metadata": {},
   "outputs": [],
   "source": [
    "# Data generating #\n",
    "\n",
    "# Parameters\n",
    "N <- 1000\n",
    "p <- 50\n",
    "\n",
    "# Generate data.\n",
    "generate_data <- function(sam_size, pre_size){\n",
    "    # Generate X.\n",
    "    mu <- rep(0, times=pre_size)\n",
    "    sig.seq <- runif(pre_size, 1, 2)\n",
    "    sigma <- diag(x=sig.seq)\n",
    "    X <- rmvnorm(sam_size, mu, sigma)\n",
    "\n",
    "    # Generate beta and error terms.\n",
    "    beta <- runif(pre_size, 0.1, 0.5)\n",
    "    err <- rnorm(sam_size, 0, 1)\n",
    "\n",
    "    # Generate responses.\n",
    "    y = X %*% beta + err\n",
    "    \n",
    "    list_data = list(y, X)\n",
    "    names(list_data) <- c('y', 'X')\n",
    "    \n",
    "    return(list_data)\n",
    "}\n",
    "\n",
    "data <- generate_data(N, p)"
   ]
  },
  {
   "cell_type": "markdown",
   "metadata": {},
   "source": [
    "**a)** Implement the ridge regression estimator and the lasso estimator using `glmnet` for a grid of different\n",
    "penalty parameters.\n",
    "\n",
    "**b)** Draw a test data set and plot the test error for the different values of $\\lambda$"
   ]
  },
  {
   "cell_type": "code",
   "execution_count": 3,
   "metadata": {},
   "outputs": [],
   "source": [
    "# Draw training data and test data.\n",
    "# Resampling strategy: random sample,\n",
    "# training_size:test_size = 7:3\n",
    "trte.ratio <- 7 / 10\n",
    "X <- data$X\n",
    "y <- data$y\n",
    "\n",
    "tr.idx <- sample(1:nrow(X), N * trte.ratio)\n",
    "te.idx <- -tr.idx\n",
    "X.train <- X[tr.idx,]\n",
    "y.train <- y[tr.idx]\n",
    "X.test <- X[te.idx,]\n",
    "y.test <- y[te.idx]"
   ]
  },
  {
   "cell_type": "code",
   "execution_count": 4,
   "metadata": {},
   "outputs": [],
   "source": [
    "# Set the regularization path.\n",
    "grid = 10 ^ seq(10, -2, length=100)\n",
    "#grid <- seq(0, 1, 0.01)\n",
    "\n",
    "# Implement Ridge regression and plot the test error.\n",
    "ridge.mod <- glmnet(X.train, y.train, alpha=0, lambda=grid)\n",
    "ridge.pre <- predict(ridge.mod, s=grid, newx=X.test)\n",
    "ridge.mse <- colMeans((ridge.pre - y.test) ^ 2)\n",
    "#plot(log(grid), ridge.mse, type='l')\n",
    "ridge.df <- data.frame(log(grid), ridge.mse)"
   ]
  },
  {
   "cell_type": "code",
   "execution_count": 70,
   "metadata": {
    "scrolled": false
   },
   "outputs": [
    {
     "data": {
      "image/png": "[encoded data removed]",
      "text/plain": [
       "plot without title"
      ]
     },
     "metadata": {},
     "output_type": "display_data"
    }
   ],
   "source": [
    "options(repr.plot.width=3, repr.plot.height=3)\n",
    "p <- ggplot(aes(x=log.grid., y=ridge.mse), data=ridge.df)+ geom_line()\n",
    "p <- p + labs(title='Test error for different lambdas', x='log(lambda)', y='Ridge MSE', cex=0.5)\n",
    "p <- p + theme(plot.title = element_text(hjust = 0.5))\n",
    "p + theme(axis.text=element_text(size=5), axis.title=element_text(size=7, face='plain'), title=element_text(size=8, face='bold'))"
   ]
  },
  {
   "cell_type": "code",
   "execution_count": 72,
   "metadata": {
    "scrolled": true
   },
   "outputs": [],
   "source": [
    "# Implement Lasso regression and plot the test error.\n",
    "lasso.mod = glmnet(X.train, y.train, alpha=1, lambda=grid)\n",
    "lasso.pre = predict(lasso.mod, s=grid, newx=X.test)\n",
    "lasso.mse = colMeans((lasso.pre - y.test) ^ 2)\n",
    "#plot(log(grid), lasso.mse, type='l')\n",
    "lasso.df <- data.frame(log(grid), lasso.mse)"
   ]
  },
  {
   "cell_type": "code",
   "execution_count": 73,
   "metadata": {},
   "outputs": [
    {
     "data": {
      "image/png": "[encoded data removed]",
      "text/plain": [
       "plot without title"
      ]
     },
     "metadata": {},
     "output_type": "display_data"
    }
   ],
   "source": [
    "options(repr.plot.width=3, repr.plot.height=3)\n",
    "p <- ggplot(aes(x=log.grid., y=lasso.mse), data=lasso.df)+ geom_line()\n",
    "p <- p + labs(title='Test error for different lambdas', x='log(lambda)', y='Lasso MSE', cex=0.5)\n",
    "p <- p + theme(plot.title = element_text(hjust = 0.5))\n",
    "p + theme(axis.text=element_text(size=5), axis.title=element_text(size=7, face='plain'), title=element_text(size=8, face='bold'))"
   ]
  },
  {
   "cell_type": "markdown",
   "metadata": {},
   "source": [
    "**c)** Choose the optimal $\\lambda$ using the build in cross-validation function from glmnet and calculate the mean\n",
    "squared test error drawing a new test data set and compare Ridge regression, Lasso and OLS."
   ]
  },
  {
   "cell_type": "code",
   "execution_count": 75,
   "metadata": {},
   "outputs": [
    {
     "data": {
      "image/png": "[encoded data removed]",
      "text/plain": [
       "plot without title"
      ]
     },
     "metadata": {},
     "output_type": "display_data"
    }
   ],
   "source": [
    "# Choose optimal lambda for Ridge.\n",
    "cv.ridge <- cv.glmnet(X.train, y.train, alpha=0, lambda=grid)\n",
    "opt.ridge <- cv.ridge$lambda.min\n",
    "options(repr.plot.width=5, repr.plot.height=5)\n",
    "plot(cv.ridge)"
   ]
  },
  {
   "cell_type": "code",
   "execution_count": 76,
   "metadata": {},
   "outputs": [
    {
     "data": {
      "image/png": "[encoded data removed]",
      "text/plain": [
       "plot without title"
      ]
     },
     "metadata": {},
     "output_type": "display_data"
    }
   ],
   "source": [
    "# Choose optimal lambda for Lasso.\n",
    "cv.lasso <- cv.glmnet(X.train, y.train, alpha=1, lambda=grid)\n",
    "opt.lasso <- cv.lasso$lambda.min\n",
    "options(repr.plot.width=5, repr.plot.height=5)\n",
    "plot(cv.lasso)"
   ]
  },
  {
   "cell_type": "code",
   "execution_count": 9,
   "metadata": {},
   "outputs": [],
   "source": [
    "# New Dataset: train and test separate.\n",
    "test2 <- generate_data(N, p)\n",
    "\n",
    "X.test2 <- test2$X\n",
    "y.test2 <- test2$y\n",
    "\n",
    "# Ridge MSE.\n",
    "ridge2.pred <- predict(ridge.mod, s=opt.ridge, newx=X.test2)\n",
    "ridge2.mse <- mean((ridge2.pred - y.test2) ^ 2)\n",
    "\n",
    "# Lasso MSE\n",
    "lasso2.pred <- predict(lasso.mod, s=opt.lasso, newx=X.test2)\n",
    "lasso2.mse <- mean((lasso2.pred - y.test2) ^ 2)\n",
    "\n",
    "# OLS MSE\n",
    "train_dat <- cbind(y, X)\n",
    "test_data2 <- cbind(y.test2, X.test2)\n",
    "newdata2 <- rbind(train_dat, test_data2)\n",
    "\n",
    "newdata2 <- as.data.frame(newdata2)\n",
    "names(newdata2)[1] <- 'y'\n",
    "\n",
    "ols2 <- lm(y~., data=newdata2[1:1000,])\n",
    "ols2.pred <- predict(ols2, newdata=newdata2[1001:2000,])\n",
    "ols2.mse <- mean((ols2.pred - y.test2)^2)"
   ]
  },
  {
   "cell_type": "code",
   "execution_count": 13,
   "metadata": {},
   "outputs": [
    {
     "data": {
      "text/html": [
       "2.62143082201188"
      ],
      "text/latex": [
       "2.62143082201188"
      ],
      "text/markdown": [
       "2.62143082201188"
      ],
      "text/plain": [
       "[1] 2.621431"
      ]
     },
     "metadata": {},
     "output_type": "display_data"
    },
    {
     "data": {
      "text/html": [
       "2.60049792418683"
      ],
      "text/latex": [
       "2.60049792418683"
      ],
      "text/markdown": [
       "2.60049792418683"
      ],
      "text/plain": [
       "[1] 2.600498"
      ]
     },
     "metadata": {},
     "output_type": "display_data"
    },
    {
     "data": {
      "text/html": [
       "2.62161427711173"
      ],
      "text/latex": [
       "2.62161427711173"
      ],
      "text/markdown": [
       "2.62161427711173"
      ],
      "text/plain": [
       "[1] 2.621614"
      ]
     },
     "metadata": {},
     "output_type": "display_data"
    }
   ],
   "source": [
    "ols2.mse\n",
    "ridge2.mse\n",
    "lasso2.mse"
   ]
  },
  {
   "cell_type": "markdown",
   "metadata": {},
   "source": [
    "### A dangerous bug here:"
   ]
  },
  {
   "cell_type": "markdown",
   "metadata": {},
   "source": [
    "This bug occurs when using the arg `newdata=` of `predict.lm()` function:"
   ]
  },
  {
   "cell_type": "markdown",
   "metadata": {},
   "source": [
    "If we estimate in ols using the original data `X` and `y` as our training data:"
   ]
  },
  {
   "cell_type": "code",
   "execution_count": 14,
   "metadata": {},
   "outputs": [],
   "source": [
    "ols.exp <- lm(y~X, data=data)"
   ]
  },
  {
   "cell_type": "markdown",
   "metadata": {},
   "source": [
    "Now take the `newdata2[1001:2000,]` as our test data:"
   ]
  },
  {
   "cell_type": "code",
   "execution_count": 15,
   "metadata": {},
   "outputs": [],
   "source": [
    "ols.pred.exp <- predict(ols.exp, newdata=newdata2[1001:2000,])"
   ]
  },
  {
   "cell_type": "markdown",
   "metadata": {},
   "source": [
    "There will be a very large MSE:"
   ]
  },
  {
   "cell_type": "code",
   "execution_count": 16,
   "metadata": {},
   "outputs": [
    {
     "data": {
      "text/html": [
       "14.8036385747324"
      ],
      "text/latex": [
       "14.8036385747324"
      ],
      "text/markdown": [
       "14.8036385747324"
      ],
      "text/plain": [
       "[1] 14.80364"
      ]
     },
     "metadata": {},
     "output_type": "display_data"
    }
   ],
   "source": [
    "ols.mse.exp <- mean((ols.pred.exp - y.test2)^2)\n",
    "ols.mse.exp"
   ]
  },
  {
   "cell_type": "markdown",
   "metadata": {},
   "source": [
    "The reason why this case arises is the inconsistency of the column names between `data` and `newdata2`. Actually the function `predict()` will attempt to match the column names in `data` but there is only `y` in common and the predictor part is empty. Hence by default it will use the training predictors in the `data` rather than the test predictors in the `newdata2`, which means that it calculates the MSE of new test responses and old predictors, which also leads to a very large error.\n",
    "\n",
    "To verify this, we calculate the error as following:"
   ]
  },
  {
   "cell_type": "code",
   "execution_count": 17,
   "metadata": {},
   "outputs": [],
   "source": [
    "X2 <- cbind(rep(1, 1000), X)"
   ]
  },
  {
   "cell_type": "code",
   "execution_count": 18,
   "metadata": {},
   "outputs": [],
   "source": [
    "X.test22 <- cbind(rep(1, 1000), X.test2)"
   ]
  },
  {
   "cell_type": "code",
   "execution_count": 19,
   "metadata": {
    "scrolled": true
   },
   "outputs": [
    {
     "data": {
      "text/html": [
       "14.8036385747324"
      ],
      "text/latex": [
       "14.8036385747324"
      ],
      "text/markdown": [
       "14.8036385747324"
      ],
      "text/plain": [
       "[1] 14.80364"
      ]
     },
     "metadata": {},
     "output_type": "display_data"
    }
   ],
   "source": [
    "mean((t(y.test2) - t(as.matrix(ols2$coef)) %*% t(X2))^2)"
   ]
  },
  {
   "cell_type": "markdown",
   "metadata": {},
   "source": [
    "We get the same result as before. Now we turn to use `test_exp`, which has the same list item name as `data`, and this time we expect to have a smaller MSE (test error):"
   ]
  },
  {
   "cell_type": "code",
   "execution_count": 20,
   "metadata": {},
   "outputs": [
    {
     "data": {
      "text/html": [
       "2.62143082201188"
      ],
      "text/latex": [
       "2.62143082201188"
      ],
      "text/markdown": [
       "2.62143082201188"
      ],
      "text/plain": [
       "[1] 2.621431"
      ]
     },
     "metadata": {},
     "output_type": "display_data"
    }
   ],
   "source": [
    "ols.pred.exp <- predict(ols.exp, newdata=test2)\n",
    "ols.mse.exp <- mean((ols.pred.exp - y.test2)^2)\n",
    "ols.mse.exp"
   ]
  },
  {
   "cell_type": "markdown",
   "metadata": {},
   "source": [
    "The MSE (training error) is much lower:"
   ]
  },
  {
   "cell_type": "code",
   "execution_count": 21,
   "metadata": {},
   "outputs": [
    {
     "data": {
      "text/html": [
       "0.958202102118993"
      ],
      "text/latex": [
       "0.958202102118993"
      ],
      "text/markdown": [
       "0.958202102118993"
      ],
      "text/plain": [
       "[1] 0.9582021"
      ]
     },
     "metadata": {},
     "output_type": "display_data"
    }
   ],
   "source": [
    "ols.pred.exp <- predict(ols.exp, newdata=data)\n",
    "ols.mse.exp <- mean((ols.pred.exp - y)^2)\n",
    "ols.mse.exp"
   ]
  },
  {
   "cell_type": "markdown",
   "metadata": {},
   "source": [
    "Anyway, be careful of the correspondence between column names."
   ]
  },
  {
   "cell_type": "markdown",
   "metadata": {},
   "source": [
    "## Exercise 2\n",
    "\n",
    "Evaluate the difference in prediction performance of the lasso and ridge regression and OLS by\n",
    "\n",
    "**a)** increasing the number of predictors (generated by the same rules as outlined above)"
   ]
  },
  {
   "cell_type": "code",
   "execution_count": 22,
   "metadata": {},
   "outputs": [],
   "source": [
    "# We simulate more observations.\n",
    "N <- 2000\n",
    "\n",
    "# Candidate predictor sizes.\n",
    "num_p <- seq(10, 800, by=80)\n",
    "\n",
    "# Prepare for recording MSE.\n",
    "mses.ridge21 <- rep(NA, times=length(num_p))\n",
    "mses.lasso21 <- rep(NA, times=length(num_p))\n",
    "mses.ols21 <- rep(NA, times=length(num_p))\n",
    "\n",
    "# Loop for number of predictos.\n",
    "for(i in 1:length(num_p)){\n",
    "    # Select training and test samples.\n",
    "    data2 <- generate_data(N, num_p[i])\n",
    "\n",
    "    trte.ratio <- 0.5\n",
    "    X2 <- data2$X\n",
    "    y2 <- data2$y\n",
    "\n",
    "    tr.idx <- sample(1:nrow(X2), N * trte.ratio)\n",
    "    te.idx <- -tr.idx\n",
    "    X2.train <- X2[tr.idx,]\n",
    "    y2.train <- y2[tr.idx]\n",
    "    X2.test <- X2[te.idx,]\n",
    "    y2.test <- y2[te.idx]\n",
    "\n",
    "    # Integrate the rearanged datasets into a dataframe.\n",
    "    data2_ra <- as.data.frame(rbind(cbind(y2.train, X2.train), cbind(y2.test, X2.test)))\n",
    "    names(data2_ra)[1] <- 'y2'\n",
    "\n",
    "    # Ridge MSE.\n",
    "    cv.ridge21 <- cv.glmnet(X2.train, y2.train, alpha=0, lambda=grid)\n",
    "    opt.ridge21 <- cv.ridge21$lambda.min\n",
    "    ridge21.mod <- glmnet(X2.train, y2.train, alpha=0, lambda=grid)\n",
    "    ridge21.pred <- predict(ridge21.mod, s=opt.ridge21, newx=X2.test)\n",
    "    ridge21.mse <- mean((ridge21.pred - y2.test) ^ 2)\n",
    "    mses.ridge21[i] <- ridge21.mse\n",
    "\n",
    "    # Lasso MSE.\n",
    "    cv.lasso21 <- cv.glmnet(X2.train, y2.train, alpha=1, lambda=grid)\n",
    "    opt.lasso21 <- cv.lasso21$lambda.min\n",
    "    lasso21.mod <- glmnet(X2.train, y2.train, alpha=1, lambda=grid)\n",
    "    lasso21.pred <- predict(lasso21.mod, s=opt.lasso21, newx=X2.test)\n",
    "    lasso21.mse <- mean((lasso21.pred - y2.test) ^ 2)\n",
    "    mses.lasso21[i] <- lasso21.mse\n",
    "\n",
    "    # OLS MSE\n",
    "    ols21 <- lm(y2~., data=data2_ra[1:1000,])\n",
    "    ols21.pred <- predict(ols21, newdata=data2_ra[1001:2000,])\n",
    "    ols21.mse <- mean((ols21.pred - y2.test)^2)\n",
    "    mses.ols21[i] <- ols21.mse    \n",
    "}"
   ]
  },
  {
   "cell_type": "code",
   "execution_count": 113,
   "metadata": {
    "scrolled": false
   },
   "outputs": [
    {
     "data": {
      "image/png": "[encoded data removed]",
      "text/plain": [
       "plot without title"
      ]
     },
     "metadata": {},
     "output_type": "display_data"
    }
   ],
   "source": [
    "# Prepare the data.frame for plot.\n",
    "df21 <- data.frame(num_p, mses.ridge21, mses.lasso21, mses.ols21)\n",
    "colnames(df21)[2:4] <- c('Ridge', 'Lasso', 'OLS')\n",
    "df21.mt <- melt(df21, id.vars='num_p', variable.name='Methods')\n",
    "\n",
    "# Plot\n",
    "options(repr.plot.width=5, repr.plot.height=5)\n",
    "p <- ggplot(aes(x=num_p, y=value), data=df21.mt) + geom_line(aes(colour=Methods))\n",
    "p <- p + labs(title='Test Errors for Different Methods', x='Number of Predictors', y='MSE', cex=0.5)\n",
    "p <- p + theme(plot.title = element_text(hjust = 0.5))\n",
    "p <- p + theme(axis.text=element_text(size=6), axis.title=element_text(size=7, face='plain'), title=element_text(size=8, face='bold'))\n",
    "p + scale_fill_discrete(labels=c(\"Ridge\", \"Lasso\", \"OLS\"))\n",
    "# plot(num_p, mses.ridge21, type='l', xlab='Number of Predictors', ylab='MSE (Test Error)')\n",
    "# lines(num_p, mses.lasso21, col='red')\n",
    "# lines(num_p, mses.ols21, col='blue')\n",
    "# legend(1, 1.9, legend=c('ridge', 'lasso', 'ols'),lty=1:1:1,\n",
    "#       col=c('black', 'red', 'blue'))"
   ]
  },
  {
   "cell_type": "markdown",
   "metadata": {},
   "source": [
    "This result violates the non-increasing relation between the MSE and the number of regressors. This is because we did not use the whole dataset as the training set, but split the data into two parts evenly and took one of them as the training set. In this split case, we can make a statistical prediction claims about the test data. If we take the whole data as the training set, we can verify that the relation is non-increasing (actually, decreasing). However, we cannot give any claims on the test data because there is no longer test dataset!"
   ]
  },
  {
   "cell_type": "code",
   "execution_count": 24,
   "metadata": {},
   "outputs": [],
   "source": [
    "# Prepare for recording MSE.\n",
    "mses.ridge21.w <- rep(NA, times=length(num_p))\n",
    "mses.lasso21.w <- rep(NA, times=length(num_p))\n",
    "mses.ols21.w <- rep(NA, times=length(num_p))\n",
    "\n",
    "# Loop for number of predictos.\n",
    "for(i in 1:length(num_p)){\n",
    "    # Select training and test samples.\n",
    "    data2.w <- generate_data(N, num_p[i])\n",
    "\n",
    "    trte.ratio <- 0.5\n",
    "    X2.w <- data2$X\n",
    "    y2.w <- data2$y\n",
    "\n",
    "    tr.idx <- sample(1:nrow(X2.w), N * trte.ratio)\n",
    "    te.idx <- -tr.idx\n",
    "    X2.test.w <- X2.w[te.idx,]\n",
    "    y2.test.w <- y2.w[te.idx]\n",
    "    \n",
    "    df2.w <- data.frame(y2.w, X2.w)\n",
    "\n",
    "    # Ridge MSE.\n",
    "    cv.ridge21.w <- cv.glmnet(X2.w, y2.w, alpha=0, lambda=grid)\n",
    "    opt.ridge21.w <- cv.ridge21.w$lambda.min\n",
    "    ridge21.mod.w <- glmnet(X2.w, y2.w, alpha=0, lambda=grid)\n",
    "    ridge21.pred.w <- predict(ridge21.mod.w, s=opt.ridge21.w, newx=X2.test.w)\n",
    "    ridge21.mse.w <- mean((ridge21.pred.w - y2.test.w) ^ 2)\n",
    "    mses.ridge21.w[i] <- ridge21.mse.w\n",
    "\n",
    "    # Lasso MSE.\n",
    "    cv.lasso21.w <- cv.glmnet(X2.w, y2.w, alpha=1, lambda=grid)\n",
    "    opt.lasso21.w <- cv.lasso21.w$lambda.min\n",
    "    lasso21.mod.w <- glmnet(X2.w, y2.w, alpha=1, lambda=grid)\n",
    "    lasso21.pred.w <- predict(lasso21.mod.w, s=opt.lasso21.w, newx=X2.test.w)\n",
    "    lasso21.mse.w <- mean((lasso21.pred.w - y2.test.w) ^ 2)\n",
    "    mses.lasso21.w[i] <- lasso21.mse.w\n",
    "\n",
    "    # OLS MSE\n",
    "    ols21.w <- lm(y2.w~., data=df2.w)\n",
    "    ols21.pred.w <- predict(ols21.w, newdata=df2.w[te.idx,])\n",
    "    ols21.mse.w <- mean((ols21.pred.w - y2.test.w)^2)\n",
    "    mses.ols21.w[i] <- ols21.mse.w \n",
    "}"
   ]
  },
  {
   "cell_type": "code",
   "execution_count": 124,
   "metadata": {},
   "outputs": [
    {
     "data": {
      "image/png": "[encoded data removed]",
      "text/plain": [
       "plot without title"
      ]
     },
     "metadata": {},
     "output_type": "display_data"
    }
   ],
   "source": [
    "# Prepare the data.frame for plot.\n",
    "df21.w <- data.frame(num_p, mses.ridge21.w, mses.lasso21.w, mses.ols21.w)\n",
    "colnames(df21.w)[2:4] <- c('Ridge', 'Lasso', 'OLS')\n",
    "df21.w.mt <- melt(df21.w, id.vars='num_p', variable.name='Methods')\n",
    "\n",
    "# Plot\n",
    "options(repr.plot.width=10, repr.plot.height=5)\n",
    "p <- ggplot(aes(x=num_p, y=value), data=df21.w.mt) + geom_line(aes(colour=Methods))\n",
    "p <- p + labs(title='Test Errors for Different Methods', x='Number of Predictors', y='MSE', cex=0.5)\n",
    "p <- p + theme(plot.title = element_text(hjust = 0.5))\n",
    "p <- p + theme(axis.text=element_text(size=6), axis.title=element_text(size=7, face='plain'), title=element_text(size=8, face='bold'))\n",
    "p + scale_fill_discrete(labels=c(\"Ridge\", \"Lasso\", \"OLS\"))\n",
    "# plot(num_p, mses.ridge21.w, type='l', xlab='Number of Predictors', ylab='MSE', ylim=c(0.55, 0.8))\n",
    "# lines(num_p, mses.lasso21.w, col='red')\n",
    "# lines(num_p, mses.ols21.w, col='blue')\n",
    "# legend(50, 0.6, legend=c('ridge', 'lasso', 'ols'),lty=1:1:1,\n",
    "#       col=c('black', 'red', 'blue'))"
   ]
  },
  {
   "cell_type": "markdown",
   "metadata": {},
   "source": [
    "**b)** Increasing the degree of sparsity in $\\beta$ (while keeping the number of predictors fixed)."
   ]
  },
  {
   "cell_type": "code",
   "execution_count": 26,
   "metadata": {},
   "outputs": [],
   "source": [
    "# Increase the sparsity in beta.\n",
    "beta_upper <- seq(0.5, 1, length.out=50)\n",
    "\n",
    "# New data generating function.\n",
    "generate_data22 <- function(sam_size, pre_size, b_upper){\n",
    "    # Generate X.\n",
    "    mu <- rep(0, times=pre_size)\n",
    "    sig.seq <- runif(pre_size, 1, 2)\n",
    "    sigma <- diag(x=sig.seq)\n",
    "    X <- rmvnorm(sam_size, mu, sigma)\n",
    "\n",
    "    # Generate beta and error terms.\n",
    "    beta <- runif(pre_size, 0.1, b_upper)\n",
    "    err <- rnorm(sam_size, 0, 1)\n",
    "\n",
    "    # Generate responses.\n",
    "    y = X %*% beta + err\n",
    "    \n",
    "    list_data = list(y, X)\n",
    "    names(list_data) <- c('y', 'X')\n",
    "    \n",
    "    return(list_data)\n",
    "}"
   ]
  },
  {
   "cell_type": "code",
   "execution_count": 27,
   "metadata": {},
   "outputs": [],
   "source": [
    "# Fix p = 50.\n",
    "N <- 2000\n",
    "p <- 50\n",
    "\n",
    "# Prepare for recording MSE.\n",
    "mses.ridge22 <- rep(NA, times=length(beta_upper))\n",
    "mses.lasso22 <- rep(NA, times=length(beta_upper))\n",
    "mses.ols22 <- rep(NA, times=length(beta_upper))\n",
    "\n",
    "# Loop for number of predictos.\n",
    "for(i in 1:length(beta_upper)){\n",
    "    # Select training and test samples.\n",
    "    data22 <- generate_data22(N, p, beta_upper[i])\n",
    "\n",
    "    trte.ratio <- 0.5\n",
    "    X22 <- data22$X\n",
    "    y22 <- data22$y\n",
    "\n",
    "    tr.idx <- sample(1:nrow(X22), N * trte.ratio)\n",
    "    te.idx <- -tr.idx\n",
    "    X22.train <- X22[tr.idx,]\n",
    "    y22.train <- y22[tr.idx]\n",
    "    X22.test <- X22[te.idx,]\n",
    "    y22.test <- y22[te.idx]\n",
    "\n",
    "    # Integrate the rearanged datasets into a dataframe.\n",
    "    data22_ra <- as.data.frame(rbind(cbind(y22.train, X22.train), cbind(y22.test, X22.test)))\n",
    "    names(data22_ra)[1] <- 'y22'\n",
    "\n",
    "    # Ridge MSE.\n",
    "    cv.ridge22 <- cv.glmnet(X22.train, y22.train, alpha=0, lambda=grid)\n",
    "    opt.ridge22 <- cv.ridge22$lambda.min\n",
    "    ridge22.mod <- glmnet(X22.train, y22.train, alpha=0, lambda=grid)\n",
    "    ridge22.pred <- predict(ridge22.mod, s=opt.ridge22, newx=X22.test)\n",
    "    ridge22.mse <- mean((ridge22.pred - y22.test) ^ 2)\n",
    "    mses.ridge22[i] <- ridge22.mse\n",
    "\n",
    "    # Lasso MSE.\n",
    "    cv.lasso22 <- cv.glmnet(X22.train, y22.train, alpha=1, lambda=grid)\n",
    "    opt.lasso22 <- cv.lasso22$lambda.min\n",
    "    lasso22.mod <- glmnet(X22.train, y22.train, alpha=1, lambda=grid)\n",
    "    lasso22.pred <- predict(lasso22.mod, s=opt.lasso22, newx=X22.test)\n",
    "    lasso22.mse <- mean((lasso22.pred - y22.test) ^ 2)\n",
    "    mses.lasso22[i] <- lasso22.mse\n",
    "\n",
    "    # OLS MSE\n",
    "    ols22 <- lm(y22~., data=data22_ra[1:1000,])\n",
    "    ols22.pred <- predict(ols22, newdata=data22_ra[1001:2000,])\n",
    "    ols22.mse <- mean((ols22.pred - y22.test)^2)\n",
    "    mses.ols22[i] <- ols22.mse    \n",
    "}"
   ]
  },
  {
   "cell_type": "code",
   "execution_count": 123,
   "metadata": {},
   "outputs": [
    {
     "data": {
      "image/png": "[encoded data removed]",
      "text/plain": [
       "plot without title"
      ]
     },
     "metadata": {},
     "output_type": "display_data"
    }
   ],
   "source": [
    "# Prepare the data.frame for plot.\n",
    "df22 <- data.frame(beta_upper, mses.ridge22, mses.lasso22, mses.ols22)\n",
    "colnames(df22)[2:4] <- c('Ridge', 'Lasso', 'OLS')\n",
    "df22.mt <- melt(df22, id.vars='beta_upper', variable.name='Methods')\n",
    "\n",
    "# Plot\n",
    "options(repr.plot.width=10, repr.plot.height=5)\n",
    "p <- ggplot(aes(x=beta_upper, y=value), data=df22.mt) + geom_line(aes(colour=Methods))\n",
    "p <- p + labs(title='Test Errors for Different Methods', x='Coef. Upper Bound', y='MSE', cex=0.5)\n",
    "p <- p + theme(plot.title = element_text(hjust = 0.5))\n",
    "p <- p + theme(axis.text=element_text(size=6), axis.title=element_text(size=7, face='plain'), title=element_text(size=8, face='bold'))\n",
    "p + scale_fill_discrete(labels=c(\"Ridge\", \"Lasso\", \"OLS\"))\n",
    "\n",
    "# plot(beta_upper, mses.ridge22, type='l', xlab='Beta Upper', ylab='MSE (Test Error)')\n",
    "# lines(beta_upper, mses.lasso22, col='red')\n",
    "# lines(beta_upper, mses.ols22, col='blue')\n",
    "# legend(0.9, 0.96, legend=c('ridge', 'lasso', 'ols'),lty=1:1:1,\n",
    "#       col=c('black', 'red', 'blue'))"
   ]
  }
 ],
 "metadata": {
  "kernelspec": {
   "display_name": "R",
   "language": "R",
   "name": "ir"
  },
  "language_info": {
   "codemirror_mode": "r",
   "file_extension": ".r",
   "mimetype": "text/x-r-source",
   "name": "R",
   "pygments_lexer": "r",
   "version": "3.6.0"
  }
 },
 "nbformat": 4,
 "nbformat_minor": 2
}
