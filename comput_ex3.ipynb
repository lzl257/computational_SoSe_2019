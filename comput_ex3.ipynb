{
 "cells": [
  {
   "cell_type": "code",
   "execution_count": 1,
   "metadata": {},
   "outputs": [],
   "source": [
    "import pandas as pd\n",
    "import numpy as np\n",
    "import random\n",
    "\n",
    "import matplotlib.pyplot as plt\n",
    "import seaborn as sns\n",
    "\n",
    "from sklearn.discriminant_analysis import LinearDiscriminantAnalysis\n",
    "from sklearn.discriminant_analysis import QuadraticDiscriminantAnalysis\n",
    "\n",
    "from sklearn.model_selection import train_test_split, KFold\n",
    "\n",
    "%matplotlib inline\n",
    "plt.style.use('seaborn-white')"
   ]
  },
  {
   "cell_type": "markdown",
   "metadata": {},
   "source": [
    "# Problem Set 3\n",
    "\n",
    "## Exercise 1\n",
    "\n",
    "DGP:\n",
    "\n",
    "* 2 classes; each classes n observations\n",
    "* 2 covariates: $X_1 \\sim \\mathscr{N} (\\mu_1, \\Sigma_1)$ and $X_2 \\sim \\mathscr{N} (\\mu_2, \\Sigma_2)$\n",
    "* $\\mu_1 = (-3, 3)$ for class 1, $\\mu_2 = (5, 5)$ for class 2, $\\Sigma_1=\\Sigma_2=\\Sigma=\n",
    "\\left[ \\begin{array}{ccc}\n",
    "16 & -2\\\\\n",
    "-2 & 9\n",
    "\\end{array} \n",
    "\\right ]$\n",
    "* $n_1=300$, $n_2=500$\n",
    "\n",
    "Use the general procedure for generating the dataframe and for calculating the lda\n",
    "and the qda function from exercise 1 in the last problem set.\n",
    "\n",
    "Questions:\n",
    "\n",
    "**a)** Calculate the mean training error and the mean test error using a new data set with the same specifications\n",
    "as the training data for both methods and compare the results."
   ]
  },
  {
   "cell_type": "code",
   "execution_count": 2,
   "metadata": {},
   "outputs": [],
   "source": [
    "np.random.seed(100)"
   ]
  },
  {
   "cell_type": "code",
   "execution_count": 3,
   "metadata": {},
   "outputs": [],
   "source": [
    "sigma = np.array([[16, -2], [-2, 9]])\n",
    "\n",
    "# First redefine the functions we have used in the last problem set.\n",
    "def generate_data_ex1(cov1, cov2):\n",
    "    \"\"\"\n",
    "    \"\"\"\n",
    "    n_11 = 300\n",
    "    n_12 = 500\n",
    "    n_21 = 300\n",
    "    n_22 = 500\n",
    "\n",
    "    mu_1 = np.array([-3, 3])\n",
    "    mu_2 = np.array([5, 5])   \n",
    "\n",
    "    y_1 = np.zeros(n_11 + n_12)\n",
    "    y_2 = np.ones(n_21 + n_22)\n",
    "\n",
    "    x_1 = np.random.multivariate_normal(mu_1, cov1, n_11 + n_12)\n",
    "    x_2 = np.random.multivariate_normal(mu_2, cov2, n_21 + n_22)\n",
    "\n",
    "    X = np.concatenate((x_1, x_2), axis=0)\n",
    "    y = np.concatenate((y_1, y_2))\n",
    "    \n",
    "    return X, y"
   ]
  },
  {
   "cell_type": "code",
   "execution_count": 4,
   "metadata": {},
   "outputs": [
    {
     "name": "stdout",
     "output_type": "stream",
     "text": [
      "LDA training mean error: 0.131875\n",
      "QDA training mean error: 0.133125\n"
     ]
    }
   ],
   "source": [
    "# Reconduct the training error analysis for both methods.\n",
    "data_x, data_y = generate_data_ex1(sigma, sigma)\n",
    "\n",
    "lda = LinearDiscriminantAnalysis(solver='svd')\n",
    "y_pred_linear = lda.fit(data_x, data_y).predict(data_x)\n",
    "\n",
    "qda = QuadraticDiscriminantAnalysis()\n",
    "y_pred_quad = qda.fit(data_x, data_y).predict(data_x)\n",
    "\n",
    "lda_mean_error = np.mean(data_y != y_pred_linear)\n",
    "qda_mean_error = np.mean(data_y != y_pred_quad)\n",
    "\n",
    "print('LDA training mean error: {}\\nQDA training mean error: {}'.format(lda_mean_error, qda_mean_error))"
   ]
  },
  {
   "cell_type": "code",
   "execution_count": 5,
   "metadata": {},
   "outputs": [
    {
     "name": "stdout",
     "output_type": "stream",
     "text": [
      "LDA mean test error: 0.15\n",
      "QDA mean test error: 0.150625\n"
     ]
    }
   ],
   "source": [
    "# Generate a test dataset.\n",
    "test_x, test_y = generate_data_ex1(sigma, sigma)\n",
    "\n",
    "# Calculate mean test error for both errors.\n",
    "y_tpred_linear = lda.fit(data_x, data_y).predict(test_x)\n",
    "y_tpred_quad = qda.fit(data_x, data_y).predict(test_x)\n",
    "\n",
    "lda_mean_terror = np.mean(test_y != y_tpred_linear)\n",
    "qda_mean_terror = np.mean(test_y != y_tpred_quad)\n",
    "\n",
    "print('LDA mean test error: {}\\nQDA mean test error: {}'.format(lda_mean_terror, qda_mean_terror))"
   ]
  },
  {
   "cell_type": "markdown",
   "metadata": {},
   "source": [
    "**b)** Write a function that uses the validation set approach for generating test and training sample."
   ]
  },
  {
   "cell_type": "code",
   "execution_count": 6,
   "metadata": {},
   "outputs": [],
   "source": [
    "def validation_set(size, data_X, data_Y, **kwargs):\n",
    "    \"\"\"\n",
    "    This is the function designed for validation set approach.\n",
    "    Input:\n",
    "        size (float): A number between ]0, 1[ representing the proportion of spliting.\n",
    "        data_X (np.ndarray): Predictors.\n",
    "        data_Y (np.1darray): Responses.\n",
    "        **kwargs:\n",
    "            random_states (int): The seed used by the random number generator. Default 1.\n",
    "            method: Estimation method. In this situation default is \n",
    "                    LinearDiscriminantAnalysis(solver='svd')\n",
    "    Output:\n",
    "        train_X, train_Y, test_X, test_Y (np.ndarray): Training sample and test sample.\n",
    "        z(np.1darray): Array of mean error rate.\n",
    "    \"\"\"\n",
    "    random_states = kwargs.get('random_states', 1)\n",
    "    method = kwargs.get('method', LinearDiscriminantAnalysis(solver='svd'))\n",
    "    \n",
    "    # Set random states.\n",
    "    r_state = np.arange(0, random_states)    \n",
    "    \n",
    "    # Generate 10 random splits of the dataset and do the LDA fit.    \n",
    "    z=[]\n",
    "    train_X = []\n",
    "    train_Y = []\n",
    "    test_X = []\n",
    "    test_Y = []\n",
    "    for r in r_state:\n",
    "        #poly = PolynomialFeatures(x[i, j])\n",
    "        #x_poly = poly.fit_transform(data_X)\n",
    "\n",
    "        x_train, x_test, y_train, y_test = train_test_split(\n",
    "            data_X, data_Y, test_size=size,\n",
    "            random_state = r\n",
    "        )  # The way of setting the random_state is to gurantee that \n",
    "           # we have 10 times different random draws.\n",
    "        train_X.append(x_train)\n",
    "        train_Y.append(y_train)\n",
    "        test_X.append(x_test)\n",
    "        test_Y.append(y_test)\n",
    "\n",
    "        # Test error rate.\n",
    "        y_pred = method.fit(x_train, y_train).predict(x_test)\n",
    "        z.append(np.mean(y_pred != y_test))\n",
    "        #z.append(1 - accuracy_score(y_test, y_pred))\n",
    "        \n",
    "    z = np.array(z)\n",
    "    train_X = np.array(train_X)\n",
    "    train_Y = np.array(train_Y)\n",
    "    test_X = np.array(test_X)\n",
    "    test_Y = np.array(test_Y)\n",
    "        \n",
    "    return train_X, train_Y, test_X, test_Y, z"
   ]
  },
  {
   "cell_type": "code",
   "execution_count": 7,
   "metadata": {
    "scrolled": true
   },
   "outputs": [
    {
     "data": {
      "text/plain": [
       "0.14625"
      ]
     },
     "execution_count": 7,
     "metadata": {},
     "output_type": "execute_result"
    }
   ],
   "source": [
    "# Have a look on the validation_set result.\n",
    "tnx, tny, ttx, tty, err = validation_set(0.5, data_x, data_y)\n",
    "err.mean()"
   ]
  },
  {
   "cell_type": "markdown",
   "metadata": {},
   "source": [
    "**Remark:** Actually the error rate of validation set approach should be one single float. However, considering the very unstable property of this method, you can repeat the split for $m$ different times  by setting `random_states=m` and calculate the mean value of those errors. Here by default, `random_states=1` "
   ]
  },
  {
   "cell_type": "markdown",
   "metadata": {},
   "source": [
    "**c)** Write a function that performs k-fold cross-validation for generating test and training sample."
   ]
  },
  {
   "cell_type": "code",
   "execution_count": 8,
   "metadata": {},
   "outputs": [],
   "source": [
    "def k_fold(folds, data_X, data_Y, **kwargs):\n",
    "    \"\"\"\n",
    "    This is the function designed for validation set approach.\n",
    "    Input:\n",
    "        folds (int): How many folds for spliting data?\n",
    "        data_X (np.ndarray): Predictors.\n",
    "        data_Y (np.1darray): Responses.\n",
    "        **kwargs:\n",
    "            random_states (int): The seed used by the random number generator. Default 1.\n",
    "            method: Estimation method. In this situation default is \n",
    "                    LinearDiscriminantAnalysis(solver='svd')\n",
    "            score_method: How to evaluate the mean error rate: for this classification\n",
    "                        situation, default is set to accuracy_score.\n",
    "    Output:\n",
    "        train_X_r, train_Y_r, test_X_r, test_Y_r (np.ndarray): 4d array;training sample and test sample.\n",
    "        z(np.1darray): Array of mean error rate.\n",
    "    \"\"\"\n",
    "    random_states = kwargs.get('random_states', 1)\n",
    "    method = kwargs.get('method', LinearDiscriminantAnalysis(solver='svd'))\n",
    "    #score_method = kwargs.get('score_method', accuracy_score)\n",
    "    # Set random states.\n",
    "    r_state = np.arange(0, random_states)    \n",
    "    \n",
    "    # Generate folds random splits of the dataset for r_state times and do the LDA fit.    \n",
    "    k_err=[]\n",
    "    train_X_r = []\n",
    "    train_Y_r = []\n",
    "    test_X_r = []\n",
    "    test_Y_r = []\n",
    "    for r in r_state:\n",
    "        z=[]\n",
    "        train_X = []\n",
    "        train_Y = []\n",
    "        test_X = []\n",
    "        test_Y = []\n",
    "        kf = KFold(n_splits=folds, random_state=r, shuffle=True)\n",
    "        for train_index, test_index in kf.split(data_X):\n",
    "            x_train, x_test = data_X[train_index], data_X[test_index]\n",
    "            y_train, y_test = data_Y[train_index], data_Y[test_index]           \n",
    "            \n",
    "            # Appending to the list.\n",
    "            train_X.append(x_train)\n",
    "            train_Y.append(y_train)\n",
    "            test_X.append(x_test)\n",
    "            test_Y.append(y_test)\n",
    "            \n",
    "            # Test error rate.\n",
    "            y_pred = method.fit(x_train, y_train).predict(x_test)\n",
    "            z.append(np.mean(y_pred != y_test))\n",
    "        \n",
    "        \n",
    "        z = np.array(z)\n",
    "        train_X = np.array(train_X)\n",
    "        train_Y = np.array(train_Y)\n",
    "        test_X = np.array(test_X)\n",
    "        test_Y = np.array(test_Y)\n",
    "    \n",
    "    k_err.append(z)\n",
    "    train_X_r.append(train_X)\n",
    "    train_Y_r.append(train_Y)\n",
    "    test_X_r.append(test_X)\n",
    "    test_Y_r.append(test_Y)\n",
    "    \n",
    "    k_err = np.array(k_err)\n",
    "    train_X_r = np.array(train_X_r)\n",
    "    train_Y_r = np.array(train_Y_r)\n",
    "    test_X_r = np.array(test_X_r)\n",
    "    test_Y_r = np.array(test_Y_r)    \n",
    "    \n",
    "        \n",
    "    return train_X_r, train_Y_r, test_X_r, test_Y_r, k_err"
   ]
  },
  {
   "cell_type": "code",
   "execution_count": 9,
   "metadata": {},
   "outputs": [
    {
     "data": {
      "text/plain": [
       "array([[0.11875, 0.18125, 0.125  , 0.18125, 0.13125, 0.11875, 0.11875,\n",
       "        0.08125, 0.175  , 0.09375]])"
      ]
     },
     "execution_count": 9,
     "metadata": {},
     "output_type": "execute_result"
    }
   ],
   "source": [
    "# Have a look on k_fold function's results (an array with k mean errors).\n",
    "kf_tnx, kf_tny, kf_ttx, kf_tty, kf_err = k_fold(10, data_x, data_y)\n",
    "kf_err"
   ]
  },
  {
   "cell_type": "markdown",
   "metadata": {},
   "source": [
    "## Exercise 2\n",
    "\n",
    "Evaluate the difference between the lda and qda methods through calculating classification training and test\n",
    "error for 100 different simulation runs. For each run, compare the difference between the\n",
    "\n",
    "**a)** validation set approach\n",
    "\n",
    "**b)** 5-fold cross-validation\n",
    "\n",
    "**c)** 10-fold cross-validation\n",
    "\n",
    "From the theoretical properties discussed in the lecture, propose a suitable metric for comparing these three\n",
    "methods and compare the results of your simulation study with your expectations."
   ]
  },
  {
   "cell_type": "code",
   "execution_count": 10,
   "metadata": {},
   "outputs": [
    {
     "data": {
      "text/plain": [
       "Text(0.5, 1.0, 'Comparisions In Test Errors Among Different Methods')"
      ]
     },
     "execution_count": 10,
     "metadata": {},
     "output_type": "execute_result"
    },
    {
     "data": {
      "image/png": "[encoded data removed]",
      "text/plain": [
       "<Figure size 1296x216 with 1 Axes>"
      ]
     },
     "metadata": {
      "needs_background": "light"
     },
     "output_type": "display_data"
    }
   ],
   "source": [
    "# We give an example of test error rate.\n",
    "sim = 100\n",
    "\n",
    "mr_vsa_lda = []\n",
    "mr_f5_lda = []\n",
    "mr_f10_lda = []\n",
    "\n",
    "mr_vsa_qda = []\n",
    "mr_f5_qda = []\n",
    "mr_f10_qda = []\n",
    "\n",
    "for _ in range(sim):   \n",
    "    data_x, data_y = generate_data_ex1(sigma, sigma)\n",
    "    \n",
    "    # LDA.\n",
    "    vsa_err_lda = validation_set(0.5, data_x, data_y, random_states=1)[4]\n",
    "    k5_err_lda = k_fold(5, data_x, data_y)[4]\n",
    "    k10_err_lda = k_fold(10, data_x, data_y)[4]\n",
    "    \n",
    "            \n",
    "    mr_vsa_lda.append(vsa_err_lda.mean())\n",
    "    mr_f5_lda.append(k5_err_lda.mean())\n",
    "    mr_f10_lda.append(k10_err_lda.mean())\n",
    "    \n",
    "    #QDA.\n",
    "    vsa_err_qda = validation_set(0.5, data_x, data_y, random_states=1, \n",
    "                                 method=QuadraticDiscriminantAnalysis())[4]\n",
    "    k5_err_qda = k_fold(5, data_x, data_y,\n",
    "                       method=QuadraticDiscriminantAnalysis())[4]\n",
    "    k10_err_qda = k_fold(10, data_x, data_y,\n",
    "                        method=QuadraticDiscriminantAnalysis())[4]    \n",
    "    \n",
    "    mr_vsa_qda.append(vsa_err_qda.mean())\n",
    "    mr_f5_qda.append(k5_err_qda.mean())\n",
    "    mr_f10_qda.append(k10_err_qda.mean())\n",
    "\n",
    "mr_vsa_lda = np.array(mr_vsa_lda).reshape(-1,1)\n",
    "mr_f5_lda = np.array(mr_f5_lda).reshape(-1, 1)\n",
    "mr_f10_lda = np.array(mr_f10_lda).reshape(-1,1)\n",
    "\n",
    "mr_vsa_qda = np.array(mr_vsa_qda).reshape(-1,1)\n",
    "mr_f5_qda = np.array(mr_f5_qda).reshape(-1, 1)\n",
    "mr_f10_qda = np.array(mr_f10_qda).reshape(-1,1)\n",
    "\n",
    "mr_comb = np.concatenate((mr_vsa_lda, mr_vsa_qda, \n",
    "                          mr_f5_lda, mr_f5_qda, \n",
    "                          mr_f10_lda, mr_f10_qda), axis=1)\n",
    "\n",
    "df_comb = pd.DataFrame(mr_comb, columns=['VS_LDA', 'VS-QDA',\n",
    "                                         '5Fold_LDA', '5Fold_QDA',\n",
    "                                         '10Fold_LDA', '10Fold_QDA'])\n",
    "\n",
    "# Create the long dataframe to prepare for the plot.\n",
    "df_comb_long = pd.melt(df_comb, var_name='Methods', value_name='MSE')\n",
    "\n",
    "# Boxplot.\n",
    "fig1, ax1 = plt.subplots(figsize=(18, 3))\n",
    "\n",
    "sns.boxplot(x='Methods', y = 'MSE', data=df_comb_long, orient='v', ax=ax1)\n",
    "ax1.set_title('Comparisions In Test Errors Among Different Methods')"
   ]
  }
 ],
 "metadata": {
  "kernelspec": {
   "display_name": "Python 3",
   "language": "python",
   "name": "python3"
  },
  "language_info": {
   "codemirror_mode": {
    "name": "ipython",
    "version": 3
   },
   "file_extension": ".py",
   "mimetype": "text/x-python",
   "name": "python",
   "nbconvert_exporter": "python",
   "pygments_lexer": "ipython3",
   "version": "3.7.1"
  }
 },
 "nbformat": 4,
 "nbformat_minor": 2
}
